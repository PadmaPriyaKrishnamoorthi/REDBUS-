{
 "cells": [
  {
   "cell_type": "code",
   "execution_count": 1,
   "id": "3c78a7cf-9601-4ee4-b6ad-0a6e02745091",
   "metadata": {},
   "outputs": [
    {
     "name": "stdout",
     "output_type": "stream",
     "text": [
      "✅ Merged file saved as: all_bus_details.csv\n"
     ]
    }
   ],
   "source": [
    "import os\n",
    "import pandas as pd\n",
    "\n",
    "# List of CSV files to merge\n",
    "csv_files = [\n",
    "    \"C:\\\\Users\\\\Vishwa\\\\Desktop\\\\GUVI captone\\\\RS\\\\apsrtc_bus_details.csv\",\n",
    "    \"C:\\\\Users\\\\Vishwa\\\\Desktop\\\\GUVI captone\\\\RS\\\\assam_bus_details.csv\",\n",
    "    \"C:\\\\Users\\\\Vishwa\\\\Desktop\\\\GUVI captone\\\\RS\\\\bihar_bus_details.csv\",\n",
    "    \"C:\\\\Users\\\\Vishwa\\\\Desktop\\\\GUVI captone\\\\RS\\\\chandigarh_bus_details.csv\",\n",
    "    \"C:\\\\Users\\\\Vishwa\\\\Desktop\\\\GUVI captone\\\\RS\\\\gsrtc_bus_details.csv\",\n",
    "    \"C:\\\\Users\\\\Vishwa\\\\Desktop\\\\GUVI captone\\\\RS\\\\hrtc_bus_details.csv\",\n",
    "    \"C:\\\\Users\\\\Vishwa\\\\Desktop\\\\GUVI captone\\\\RS\\\\ktcl_bus_details.csv\",\n",
    "    \"C:\\\\Users\\\\Vishwa\\\\Desktop\\\\GUVI captone\\\\RS\\\\nbstc_bus_details.csv\",\n",
    "    \"C:\\\\Users\\\\Vishwa\\\\Desktop\\\\GUVI captone\\\\RS\\\\southbengal_bus_details.csv\",\n",
    "    \"C:\\\\Users\\\\Vishwa\\\\Desktop\\\\GUVI captone\\\\RS\\\\tsrtc_bus_details.csv\",\n",
    "    \"C:\\\\Users\\\\Vishwa\\\\Desktop\\\\GUVI captone\\\\RS\\\\upsrtc_bus_details.csv\",\n",
    "    \"C:\\\\Users\\\\Vishwa\\\\Desktop\\\\GUVI captone\\\\RS\\\\wbtc_bus_details.csv\",\n",
    "]\n",
    "\n",
    "# List to store dataframes\n",
    "dataframes = []\n",
    "\n",
    "# Read and append all CSV files\n",
    "for file in csv_files:\n",
    "    if os.path.exists(file):  # Check if file exists\n",
    "        df = pd.read_csv(file)\n",
    "        df[\"Source File\"] = os.path.basename(file)  # Add source column\n",
    "        dataframes.append(df)\n",
    "    else:\n",
    "        print(f\"⚠️ File not found: {file}\")\n",
    "\n",
    "# Merge all dataframes\n",
    "if dataframes:\n",
    "    merged_df = pd.concat(dataframes, ignore_index=True)\n",
    "    merged_df.to_csv(\"C:\\\\Users\\\\Vishwa\\\\Desktop\\\\GUVI captone\\\\RS\\\\all_bus_details.csv\", index=False, encoding=\"utf-8\")\n",
    "    print(\"✅ Merged file saved as: all_bus_details.csv\")\n",
    "else:\n",
    "    print(\"❌ No valid files found for merging.\")\n"
   ]
  },
  {
   "cell_type": "code",
   "execution_count": 1,
   "id": "7ad528ce-e4e6-43cc-bf56-4a1048d1cf03",
   "metadata": {},
   "outputs": [
    {
     "name": "stdout",
     "output_type": "stream",
     "text": [
      "Requirement already satisfied: pandas in c:\\users\\vishwa\\anaconda3\\lib\\site-packages (2.2.2)\n",
      "Requirement already satisfied: sqlalchemy in c:\\users\\vishwa\\anaconda3\\lib\\site-packages (2.0.25)\n",
      "Requirement already satisfied: pymysql in c:\\users\\vishwa\\anaconda3\\lib\\site-packages (1.1.1)\n",
      "Requirement already satisfied: numpy>=1.23.2 in c:\\users\\vishwa\\anaconda3\\lib\\site-packages (from pandas) (1.26.4)\n",
      "Requirement already satisfied: python-dateutil>=2.8.2 in c:\\users\\vishwa\\anaconda3\\lib\\site-packages (from pandas) (2.8.2)\n",
      "Requirement already satisfied: pytz>=2020.1 in c:\\users\\vishwa\\anaconda3\\lib\\site-packages (from pandas) (2023.3.post1)\n",
      "Requirement already satisfied: tzdata>=2022.7 in c:\\users\\vishwa\\anaconda3\\lib\\site-packages (from pandas) (2023.3)\n",
      "Requirement already satisfied: typing-extensions>=4.6.0 in c:\\users\\vishwa\\anaconda3\\lib\\site-packages (from sqlalchemy) (4.12.2)\n",
      "Requirement already satisfied: greenlet!=0.4.17 in c:\\users\\vishwa\\anaconda3\\lib\\site-packages (from sqlalchemy) (3.0.1)\n",
      "Requirement already satisfied: six>=1.5 in c:\\users\\vishwa\\anaconda3\\lib\\site-packages (from python-dateutil>=2.8.2->pandas) (1.16.0)\n",
      "Note: you may need to restart the kernel to use updated packages.\n"
     ]
    }
   ],
   "source": [
    "pip install pandas sqlalchemy pymysql\n"
   ]
  },
  {
   "cell_type": "code",
   "execution_count": 17,
   "id": "ad732487-34f8-4d85-9e32-72d490eae21b",
   "metadata": {},
   "outputs": [],
   "source": [
    "from sqlalchemy import create_engine\n",
    "\n",
    "DB_USER = \"root\"\n",
    "DB_PASSWORD = \"1111\"\n",
    "DB_HOST = \"localhost\"  # Change if using a remote server\n",
    "DB_NAME = \"bus_data\"\n",
    "\n",
    "DATABASE_URL = f\"mysql+pymysql://{DB_USER}:{DB_PASSWORD}@{DB_HOST}/{DB_NAME}\"\n",
    "\n",
    "engine = create_engine(DATABASE_URL)\n"
   ]
  },
  {
   "cell_type": "code",
   "execution_count": 35,
   "id": "dc651a38-de31-42ae-bef4-898c497802c4",
   "metadata": {},
   "outputs": [
    {
     "name": "stdout",
     "output_type": "stream",
     "text": [
      "✅ Data successfully inserted into 'bus_routes' table in 'redbus' database.\n"
     ]
    }
   ],
   "source": [
    "import pandas as pd\n",
    "from sqlalchemy import create_engine\n",
    "\n",
    "# ✅ Update these details as per your database\n",
    "DB_TYPE = \"mysql+pymysql\"  # Change to \"sqlite\" for SQLite or \"postgresql\" for PostgreSQL\n",
    "DB_HOST = \"localhost\"  # Your database host (e.g., \"127.0.0.1\")\n",
    "DB_PORT = \"3306\"  # Default MySQL port (use 5432 for PostgreSQL)\n",
    "DB_NAME = \"redbus\"  # Your database name\n",
    "DB_USER = \"root\"  # Your username\n",
    "DB_PASSWORD = \"1111\"  # Your password\n",
    "\n",
    "# 🔗 Create a database connection\n",
    "engine = create_engine(f\"{DB_TYPE}://{DB_USER}:{DB_PASSWORD}@{DB_HOST}:{DB_PORT}/{DB_NAME}\")\n",
    "\n",
    "# 📂 Load merged CSV file\n",
    "csv_file = \"C:\\\\Users\\\\Vishwa\\\\Desktop\\\\GUVI captone\\\\RS\\\\all_bus_details.csv\"\n",
    "df = pd.read_csv(csv_file)\n",
    "\n",
    "# 📝 Store in SQL database\n",
    "table_name = \"bus_routes\"  # Change table name as needed\n",
    "df.to_sql(table_name, con=engine, if_exists=\"replace\", index=False)\n",
    "\n",
    "print(f\"✅ Data successfully inserted into '{table_name}' table in '{DB_NAME}' database.\")\n"
   ]
  },
  {
   "cell_type": "code",
   "execution_count": null,
   "id": "f742848e-c142-44fa-8477-6a3fe438eb90",
   "metadata": {},
   "outputs": [],
   "source": []
  }
 ],
 "metadata": {
  "kernelspec": {
   "display_name": "Python 3 (ipykernel)",
   "language": "python",
   "name": "python3"
  },
  "language_info": {
   "codemirror_mode": {
    "name": "ipython",
    "version": 3
   },
   "file_extension": ".py",
   "mimetype": "text/x-python",
   "name": "python",
   "nbconvert_exporter": "python",
   "pygments_lexer": "ipython3",
   "version": "3.11.7"
  }
 },
 "nbformat": 4,
 "nbformat_minor": 5
}
